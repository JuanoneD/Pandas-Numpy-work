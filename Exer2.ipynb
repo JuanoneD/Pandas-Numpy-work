{
 "cells": [
  {
   "cell_type": "code",
   "execution_count": null,
   "metadata": {},
   "outputs": [],
   "source": [
    "import pandas as pd\n",
    "from matplotlib import pyplot as plt \n",
    "\n",
    "df = pd.read_csv('Netflix.csv')"
   ]
  },
  {
   "cell_type": "code",
   "execution_count": null,
   "metadata": {},
   "outputs": [],
   "source": [
    "print(df.head(10))"
   ]
  },
  {
   "cell_type": "code",
   "execution_count": null,
   "metadata": {},
   "outputs": [],
   "source": [
    "print(df.tail(10))"
   ]
  },
  {
   "cell_type": "code",
   "execution_count": null,
   "metadata": {},
   "outputs": [],
   "source": [
    "print(df.loc[df['imdb_score'].idxmax()])\n",
    "print(df.loc[df['imdb_score'].idxmin()])"
   ]
  },
  {
   "cell_type": "code",
   "execution_count": null,
   "metadata": {},
   "outputs": [],
   "source": [
    "print(\"media de duração de show: \"+ str(df[df['type'] == 'SHOW']['runtime'].mean()))\n",
    "print(\"media de duração dos filmes: \"+ str(df[df['type'] == 'MOVIE']['runtime'].mean()))"
   ]
  },
  {
   "cell_type": "code",
   "execution_count": null,
   "metadata": {},
   "outputs": [],
   "source": [
    "print(\"Show com a maior duração:\")\n",
    "print(df.loc[df[df['type'] == 'SHOW']['runtime'].idxmax()])\n",
    "print(\"Filme com a maior duração:\")\n",
    "print(df.loc[df[df['type'] == 'MOVIE']['runtime'].idxmax()])"
   ]
  },
  {
   "cell_type": "code",
   "execution_count": null,
   "metadata": {},
   "outputs": [],
   "source": [
    "print(\"Filmes por ano\")\n",
    "print(df[df['type'] == 'MOVIE']['release_year'].value_counts().head(10))"
   ]
  },
  {
   "cell_type": "code",
   "execution_count": null,
   "metadata": {},
   "outputs": [],
   "source": [
    "print(\"Filmes por categoria\")\n",
    "print(df[df['type'] == 'MOVIE']['age_certification'].value_counts())"
   ]
  },
  {
   "cell_type": "code",
   "execution_count": null,
   "metadata": {},
   "outputs": [],
   "source": [
    "print(\"Campos vazios\")\n",
    "print(df.isnull().sum())"
   ]
  },
  {
   "cell_type": "code",
   "execution_count": null,
   "metadata": {},
   "outputs": [],
   "source": [
    "plt.plot(df[df['type']=='MOVIE'].groupby('release_year')['imdb_score'].mean().index,df[df['type']=='MOVIE'].groupby('release_year')['imdb_score'].mean())\n",
    "plt.title('Média de IMDb por ano filme')\n",
    "plt.xlabel('Ano')\n",
    "plt.ylabel('IMDb')\n",
    "plt.grid(True)\n",
    "plt.show()\n",
    "\n",
    "plt.plot(df[df['type']=='SHOW'].groupby('release_year')['imdb_score'].mean().index,df[df['type']=='SHOW'].groupby('release_year')['imdb_score'].mean())\n",
    "plt.title('Média de IMDb por ano show')\n",
    "plt.xlabel('Ano')\n",
    "plt.ylabel('IMDb')\n",
    "plt.grid(True)\n",
    "plt.show()"
   ]
  },
  {
   "cell_type": "code",
   "execution_count": null,
   "metadata": {},
   "outputs": [],
   "source": [
    "plt.plot(df[df['type']=='SHOW'].groupby('release_year')['imdb_votes'].mean().index,df[df['type']=='SHOW'].groupby('release_year')['imdb_votes'].mean())\n",
    "plt.title('Média de votantes por ano show')\n",
    "plt.xlabel('Ano')\n",
    "plt.ylabel('votantes')\n",
    "plt.grid(True)\n",
    "plt.show()\n",
    "\n",
    "\n",
    "plt.plot(df[df['type']=='MOVIE'].groupby('release_year')['imdb_votes'].mean().index,df[df['type']=='MOVIE'].groupby('release_year')['imdb_votes'].mean())\n",
    "plt.title('Média de votantes por ano filme')\n",
    "plt.xlabel('Ano')\n",
    "plt.ylabel('votantes')\n",
    "plt.grid(True)\n",
    "plt.show()"
   ]
  }
 ],
 "metadata": {
  "kernelspec": {
   "display_name": "Python 3",
   "language": "python",
   "name": "python3"
  },
  "language_info": {
   "name": "python",
   "version": "3.12.1"
  }
 },
 "nbformat": 4,
 "nbformat_minor": 2
}
